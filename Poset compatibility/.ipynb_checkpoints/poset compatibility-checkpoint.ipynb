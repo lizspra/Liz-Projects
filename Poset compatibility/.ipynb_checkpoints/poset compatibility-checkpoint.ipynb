{
 "cells": [
  {
   "cell_type": "code",
   "execution_count": 1,
   "id": "c5c15886",
   "metadata": {},
   "outputs": [],
   "source": [
    "import networkx as nx\n",
    "import numpy as np\n",
    "#import lattice as lat\n",
    "#import setsystem as ss\n",
    "import itertools as it\n",
    "from itertools import combinations\n",
    "import more_itertools as mtools #want to use more_itertools.powerset\n",
    "from tabulate import tabulate\n",
    "import random"
   ]
  },
  {
   "cell_type": "code",
   "execution_count": 2,
   "id": "5ac69b77",
   "metadata": {},
   "outputs": [],
   "source": [
    "def freeze_sets(L): #inputs a list of sets (or a list of tuples) and outputs the same list as frozensets\n",
    "    J=[]\n",
    "    for i in range(len(L)):\n",
    "        J.append(frozenset(L[i])) \n",
    "    return J\n",
    "\n",
    "def booleandag(S): #input a set and output a DAG which is the boolean lattice obatined from the power set of S\n",
    "    P = list(mtools.powerset(S))\n",
    "    P = freeze_sets(P)\n",
    "    return lat.subsetdag(P)\n",
    "\n",
    "#the following is a pseudo-random DAG, where choice of n,m,p yeilds varying results\n",
    "#Note that if p and m large, then WHP random_DAG(n,m,p)=sinlge vtx\n",
    "#n is number of vertices in output, m is number of vertices used to generate random graph with edge prob. p\n",
    "def random_DAG(n,m,p): #outputs a DAG on n vertices obtained from the condensation of a directed G(m,p)\n",
    "    x=0\n",
    "    while x != n:\n",
    "        D = nx.gnp_random_graph(m, p, seed=None, directed=True)\n",
    "        C = nx.condensation(D)\n",
    "        x = nx.number_of_nodes(C)\n",
    "    mapping = dict(zip(C.nodes(), sorted(C.nodes(), key=lambda k: random.random()))) #randomly permutes nodes since condensation reordered the vtx in some predictable way\n",
    "    return nx.relabel_nodes(C, mapping)\n",
    "\n",
    "#inputs a dictionary of intervals (ex. {1: [1,4], 2: [0,7]}) and outputs the DAG with vertex set from the dictionary key and an edge between intervals based on the weak interval order (i.e. [a,b]<=[c,d] iff a<=c and b<=d) \n",
    "def weak_interval_DAG(intervals): \n",
    "    G = nx.DiGraph()\n",
    "    G.add_nodes_from(intervals)\n",
    "    for key in it.combinations(intervals.keys(), 2):\n",
    "        if intervals[key[0]][0]<=intervals[key[1]][0] and intervals[key[0]][1]<=intervals[key[1]][1]:\n",
    "            G.add_edge(key[0],key[1]) \n",
    "        if intervals[key[1]][0]<=intervals[key[0]][0] and intervals[key[1]][1]<=intervals[key[0]][1]:\n",
    "            G.add_edge(key[1],key[0]) \n",
    "    return G"
   ]
  },
  {
   "cell_type": "code",
   "execution_count": 3,
   "id": "9a65fb9f",
   "metadata": {},
   "outputs": [],
   "source": [
    "#Inputs a list of DAGS\n",
    "#Outputs: verbose: Edge and vtx dsitribution, sum, union, and condenstion statistics\n",
    "#         print_compatibility: Edge and vtx compatibilities\n",
    "def order_compatibility(Digraphs, verbose = True, print_compatability = True, print_compatability_only = False): \n",
    "    G = nx.DiGraph()\n",
    "    sum_vert  = 0\n",
    "    sum_edges = 0\n",
    "    list_of_orders = []\n",
    "    list_of_sizes = []\n",
    "    for D in Digraphs:\n",
    "        sum_vert = sum_vert + D.number_of_nodes()\n",
    "        sum_edges = sum_edges + D.number_of_edges()\n",
    "        G = nx.compose(G,D)\n",
    "        list_of_orders.append(D.number_of_nodes())\n",
    "        list_of_sizes.append(D.number_of_edges())\n",
    "    C = nx.condensation(G)\n",
    "    if print_compatability_only == True:\n",
    "        return C.number_of_edges()/G.number_of_edges()\n",
    "    if verbose == True:\n",
    "        print(tabulate([['Vertices', list_of_orders, sum_vert, G.number_of_nodes(),C.number_of_nodes()], ['Edges', list_of_sizes, sum_edges,G.number_of_edges(),C.number_of_edges()]], headers=['','Distribution','Sum', 'Union', 'Condensation']))\n",
    "    if print_compatability == True:\n",
    "        print('Vertex compatability ', C.number_of_nodes()/G.number_of_nodes())\n",
    "        print('Edge compatability ', C.number_of_edges()/G.number_of_edges())\n",
    "    return C"
   ]
  },
  {
   "cell_type": "code",
   "execution_count": 4,
   "id": "b97c0e01",
   "metadata": {},
   "outputs": [
    {
     "name": "stdout",
     "output_type": "stream",
     "text": [
      "          Distribution      Sum    Union    Condensation\n",
      "--------  --------------  -----  -------  --------------\n",
      "Vertices  [10, 10]           20       10              10\n",
      "Edges     [9, 9]             18        9               9\n",
      "Vertex compatability  1.0\n",
      "Edge compatability  1.0\n"
     ]
    },
    {
     "data": {
      "text/plain": [
       "<networkx.classes.digraph.DiGraph at 0x7fdbf137d100>"
      ]
     },
     "execution_count": 4,
     "metadata": {},
     "output_type": "execute_result"
    }
   ],
   "source": [
    "#Example: chain vs itself\n",
    "D1 = nx.DiGraph([(0,1),(1,2),(2,3),(3,4),(4,5),(5,6),(6,7),(7,8),(8,9)])\n",
    "order_compatibility([D1,D1])"
   ]
  },
  {
   "cell_type": "code",
   "execution_count": 5,
   "id": "2bdfb872",
   "metadata": {},
   "outputs": [
    {
     "name": "stdout",
     "output_type": "stream",
     "text": [
      "          Distribution      Sum    Union    Condensation\n",
      "--------  --------------  -----  -------  --------------\n",
      "Vertices  [8, 8, 8]          24        8               8\n",
      "Edges     [7, 7, 7]          21        7               7\n",
      "Vertex compatability  1.0\n",
      "Edge compatability  1.0\n"
     ]
    },
    {
     "data": {
      "text/plain": [
       "<networkx.classes.digraph.DiGraph at 0x7fdbf20e1a60>"
      ]
     },
     "execution_count": 5,
     "metadata": {},
     "output_type": "execute_result"
    }
   ],
   "source": [
    "#Example: chain vs itself vs itself \n",
    "D1 = nx.DiGraph([(0,1),(1,2),(2,3),(3,4),(4,5),(5,6),(6,7)])\n",
    "order_compatibility([D1,D1,D1])"
   ]
  },
  {
   "cell_type": "code",
   "execution_count": 6,
   "id": "a3c3453d",
   "metadata": {},
   "outputs": [
    {
     "name": "stdout",
     "output_type": "stream",
     "text": [
      "          Distribution      Sum    Union    Condensation\n",
      "--------  --------------  -----  -------  --------------\n",
      "Vertices  [10, 10]           20       10               1\n",
      "Edges     [9, 9]             18       18               0\n",
      "Vertex compatability  0.1\n",
      "Edge compatability  0.0\n"
     ]
    },
    {
     "data": {
      "text/plain": [
       "<networkx.classes.digraph.DiGraph at 0x7fdbf20e1760>"
      ]
     },
     "execution_count": 6,
     "metadata": {},
     "output_type": "execute_result"
    }
   ],
   "source": [
    "#Example: chain vs its reverse chain\n",
    "D1 = nx.DiGraph([(0,1),(1,2),(2,3),(3,4),(4,5),(5,6),(6,7),(7,8),(8,9)])\n",
    "D2 = nx.DiGraph([(1,0),(2,1),(3,2),(4,3),(5,4),(6,5),(7,6),(8,7),(9,8)])\n",
    "order_compatibility([D1,D2])"
   ]
  },
  {
   "cell_type": "code",
   "execution_count": 7,
   "id": "2eb72a04",
   "metadata": {},
   "outputs": [
    {
     "name": "stdout",
     "output_type": "stream",
     "text": [
      "          Distribution      Sum    Union    Condensation\n",
      "--------  --------------  -----  -------  --------------\n",
      "Vertices  [8, 8]             16        8               8\n",
      "Edges     [7, 0]              7        7               7\n",
      "Vertex compatability  1.0\n",
      "Edge compatability  1.0\n"
     ]
    },
    {
     "data": {
      "text/plain": [
       "<networkx.classes.digraph.DiGraph at 0x7fdbf20e13d0>"
      ]
     },
     "execution_count": 7,
     "metadata": {},
     "output_type": "execute_result"
    }
   ],
   "source": [
    "#Example: chain vs anti-chain\n",
    "D1 = nx.DiGraph([(0,1),(1,2),(2,3),(3,4),(4,5),(5,6),(6,7)])\n",
    "D2 = nx.DiGraph() \n",
    "D2.add_nodes_from([0,1,2,3,4,5,6,7])\n",
    "order_compatibility([D1,D2])"
   ]
  },
  {
   "cell_type": "code",
   "execution_count": 8,
   "id": "0c861124",
   "metadata": {},
   "outputs": [
    {
     "name": "stdout",
     "output_type": "stream",
     "text": [
      "          Distribution      Sum    Union    Condensation\n",
      "--------  --------------  -----  -------  --------------\n",
      "Vertices  [10, 10]           20       10               1\n",
      "Edges     [9, 1]             10       10               0\n",
      "Vertex compatability  0.1\n",
      "Edge compatability  0.0\n"
     ]
    },
    {
     "data": {
      "text/plain": [
       "<networkx.classes.digraph.DiGraph at 0x7fdbf137d040>"
      ]
     },
     "execution_count": 8,
     "metadata": {},
     "output_type": "execute_result"
    }
   ],
   "source": [
    "#Example: chain 0...9 vs edge (9,0)\n",
    "D1 = nx.DiGraph([(0,1),(1,2),(2,3),(3,4),(4,5),(5,6),(6,7),(7,8),(8,9)])\n",
    "D2 = nx.DiGraph([(9,0)])\n",
    "D2.add_nodes_from([1,2,3,4,5,6,7,8])\n",
    "order_compatibility([D1,D2])"
   ]
  },
  {
   "cell_type": "code",
   "execution_count": 9,
   "id": "96c8bfe2",
   "metadata": {},
   "outputs": [
    {
     "name": "stdout",
     "output_type": "stream",
     "text": [
      "          Distribution      Sum    Union    Condensation\n",
      "--------  --------------  -----  -------  --------------\n",
      "Vertices  [10, 10]           20       10               7\n",
      "Edges     [9, 1]             10       10               6\n",
      "Vertex compatability  0.7\n",
      "Edge compatability  0.6\n"
     ]
    },
    {
     "data": {
      "text/plain": [
       "<networkx.classes.digraph.DiGraph at 0x7fdbf137d5e0>"
      ]
     },
     "execution_count": 9,
     "metadata": {},
     "output_type": "execute_result"
    }
   ],
   "source": [
    "#Example: chain 0...9 vs edge (3,0)\n",
    "D1 = nx.DiGraph([(0,1),(1,2),(2,3),(3,4),(4,5),(5,6),(6,7),(7,8),(8,9)])\n",
    "D2 = nx.DiGraph([(3,0)])\n",
    "D2.add_nodes_from([1,2,4,5,6,7,8,9])\n",
    "order_compatibility([D1,D2])"
   ]
  },
  {
   "cell_type": "code",
   "execution_count": 10,
   "id": "c27c7cfd",
   "metadata": {},
   "outputs": [
    {
     "name": "stdout",
     "output_type": "stream",
     "text": [
      "[frozenset({1}), frozenset(), frozenset({2}), frozenset({3}), frozenset({1, 2}), frozenset({1, 3}), frozenset({2, 3}), frozenset({1, 2, 3})]\n",
      "          Distribution      Sum    Union    Condensation\n",
      "--------  --------------  -----  -------  --------------\n",
      "Vertices  [8, 8]             16        8               1\n",
      "Edges     [12, 7]            19       19               0\n",
      "Vertex compatability  0.125\n",
      "Edge compatability  0.0\n"
     ]
    },
    {
     "data": {
      "text/plain": [
       "<networkx.classes.digraph.DiGraph at 0x7fdbf137d340>"
      ]
     },
     "execution_count": 10,
     "metadata": {},
     "output_type": "execute_result"
    }
   ],
   "source": [
    "#Example: Boolean DAG vs. chain 0..7\n",
    "S1 = {1,2,3}\n",
    "D1 = booleandag(S1)\n",
    "print(D1.nodes())\n",
    "D1 = nx.convert_node_labels_to_integers(D1)\n",
    "\n",
    "D2 = nx.DiGraph([(1,0),(0,2),(2,3),(3,4),(4,5),(5,6),(6,7)])\n",
    "\n",
    "order_compatibility([D1,D2])"
   ]
  },
  {
   "cell_type": "code",
   "execution_count": 11,
   "id": "1e8deda3",
   "metadata": {},
   "outputs": [
    {
     "name": "stdout",
     "output_type": "stream",
     "text": [
      "0.13176454725755082\n"
     ]
    }
   ],
   "source": [
    "#Example: Boolean DAG vs random DAG \n",
    "S1 = {1,2,3}\n",
    "D1 = booleandag(S1)\n",
    "D1 = nx.convert_node_labels_to_integers(D1)\n",
    "\n",
    "i = 0\n",
    "L=[]\n",
    "E=[]\n",
    "n = 10000 #numb of iterations\n",
    "while i <= n:\n",
    "    R = random_DAG(8,10,.25)\n",
    "    L.append(order_compatibility([D1,R], print_compatability_only = True))\n",
    "    i = i+1\n",
    "    \n",
    "print(sum(L)/n)\n"
   ]
  },
  {
   "cell_type": "code",
   "execution_count": 12,
   "id": "b52c604d",
   "metadata": {},
   "outputs": [
    {
     "name": "stdout",
     "output_type": "stream",
     "text": [
      "          Distribution      Sum    Union    Condensation\n",
      "--------  --------------  -----  -------  --------------\n",
      "Vertices  [8, 8]             16        8               1\n",
      "Edges     [12, 7]            19       17               0\n",
      "Vertex compatability  0.125\n",
      "Edge compatability  0.0\n"
     ]
    },
    {
     "data": {
      "text/plain": [
       "<networkx.classes.digraph.DiGraph at 0x7fdbf20e1e80>"
      ]
     },
     "execution_count": 12,
     "metadata": {},
     "output_type": "execute_result"
    }
   ],
   "source": [
    "#Example: Boolean DAG vs lexicalgraphic \n",
    "S1 = {1,2,3}\n",
    "D1 = booleandag(S1)\n",
    "D1 = nx.convert_node_labels_to_integers(D1)\n",
    "\n",
    "D2 = nx.DiGraph([(1,0),(0,4),(4,7),(7,5),(5,2),(2,6),(6,3)])\n",
    "\n",
    "order_compatibility([D1,D2])"
   ]
  },
  {
   "cell_type": "code",
   "execution_count": 13,
   "id": "2482c4ed",
   "metadata": {},
   "outputs": [
    {
     "name": "stdout",
     "output_type": "stream",
     "text": [
      "          Distribution      Sum    Union    Condensation\n",
      "--------  --------------  -----  -------  --------------\n",
      "Vertices  [8, 8]             16        8               3\n",
      "Edges     [12, 7]            19       15               3\n",
      "Vertex compatability  0.375\n",
      "Edge compatability  0.2\n"
     ]
    },
    {
     "data": {
      "text/plain": [
       "<networkx.classes.digraph.DiGraph at 0x7fdbf1355d90>"
      ]
     },
     "execution_count": 13,
     "metadata": {},
     "output_type": "execute_result"
    }
   ],
   "source": [
    "#Example: Boolean DAG vs lexicalgraphic \n",
    "S1 = {1,2,3}\n",
    "D1 = booleandag(S1)\n",
    "D1 = nx.convert_node_labels_to_integers(D1)\n",
    "\n",
    "D2 = nx.DiGraph([(0,1),(4,0),(7,4),(5,7),(2,5),(6,2),(3,6)])\n",
    "\n",
    "order_compatibility([D1,D2])"
   ]
  },
  {
   "cell_type": "code",
   "execution_count": null,
   "id": "68e65fba",
   "metadata": {},
   "outputs": [],
   "source": []
  },
  {
   "cell_type": "code",
   "execution_count": null,
   "id": "763f66a4",
   "metadata": {},
   "outputs": [],
   "source": []
  }
 ],
 "metadata": {
  "kernelspec": {
   "display_name": "Python 3",
   "language": "python",
   "name": "python3"
  },
  "language_info": {
   "codemirror_mode": {
    "name": "ipython",
    "version": 3
   },
   "file_extension": ".py",
   "mimetype": "text/x-python",
   "name": "python",
   "nbconvert_exporter": "python",
   "pygments_lexer": "ipython3",
   "version": "3.8.8"
  }
 },
 "nbformat": 4,
 "nbformat_minor": 5
}
